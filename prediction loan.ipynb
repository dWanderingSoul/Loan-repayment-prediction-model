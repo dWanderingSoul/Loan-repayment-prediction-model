{
 "cells": [
  {
   "cell_type": "markdown",
   "id": "25b21c0b",
   "metadata": {},
   "source": [
    "**Importing necessary libraries**"
   ]
  },
  {
   "cell_type": "code",
   "execution_count": 1,
   "id": "bda02c98",
   "metadata": {
    "execution": {
     "iopub.execute_input": "2023-08-16T06:22:20.788563Z",
     "iopub.status.busy": "2023-08-16T06:22:20.788116Z",
     "iopub.status.idle": "2023-08-16T06:22:20.799154Z",
     "shell.execute_reply": "2023-08-16T06:22:20.798308Z"
    },
    "id": "cpLtxH5dGaQ8",
    "papermill": {
     "duration": 0.020468,
     "end_time": "2023-08-16T06:22:20.801124",
     "exception": false,
     "start_time": "2023-08-16T06:22:20.780656",
     "status": "completed"
    },
    "tags": []
   },
   "outputs": [],
   "source": [
    "\n",
    "import pandas as pd\n",
    "import numpy as np\n",
    "import sklearn"
   ]
  },
  {
   "cell_type": "markdown",
   "id": "61281cf2",
   "metadata": {
    "id": "F6oOnINRVScx",
    "papermill": {
     "duration": 0.005194,
     "end_time": "2023-08-16T06:22:20.812177",
     "exception": false,
     "start_time": "2023-08-16T06:22:20.806983",
     "status": "completed"
    },
    "tags": []
   },
   "source": [
    "**Loading  dataset**\n"
   ]
  },
  {
   "cell_type": "code",
   "execution_count": 2,
   "id": "d9d1d125",
   "metadata": {
    "execution": {
     "iopub.execute_input": "2023-08-16T06:22:20.824533Z",
     "iopub.status.busy": "2023-08-16T06:22:20.824101Z",
     "iopub.status.idle": "2023-08-16T06:22:21.788614Z",
     "shell.execute_reply": "2023-08-16T06:22:21.787431Z"
    },
    "id": "TkkggXaRG_4l",
    "outputId": "fe9abd6c-a66a-4c7e-80f9-227d49684de5",
    "papermill": {
     "duration": 0.975755,
     "end_time": "2023-08-16T06:22:21.793208",
     "exception": false,
     "start_time": "2023-08-16T06:22:20.817453",
     "status": "completed"
    },
    "tags": []
   },
   "outputs": [
    {
     "data": {
      "text/html": [
       "<div>\n",
       "<style scoped>\n",
       "    .dataframe tbody tr th:only-of-type {\n",
       "        vertical-align: middle;\n",
       "    }\n",
       "\n",
       "    .dataframe tbody tr th {\n",
       "        vertical-align: top;\n",
       "    }\n",
       "\n",
       "    .dataframe thead th {\n",
       "        text-align: right;\n",
       "    }\n",
       "</style>\n",
       "<table border=\"1\" class=\"dataframe\">\n",
       "  <thead>\n",
       "    <tr style=\"text-align: right;\">\n",
       "      <th></th>\n",
       "      <th>ID</th>\n",
       "      <th>year</th>\n",
       "      <th>loan_limit</th>\n",
       "      <th>Gender</th>\n",
       "      <th>approv_in_adv</th>\n",
       "      <th>loan_type</th>\n",
       "      <th>loan_purpose</th>\n",
       "      <th>Credit_Worthiness</th>\n",
       "      <th>open_credit</th>\n",
       "      <th>business_or_commercial</th>\n",
       "      <th>...</th>\n",
       "      <th>credit_type</th>\n",
       "      <th>Credit_Score</th>\n",
       "      <th>co-applicant_credit_type</th>\n",
       "      <th>age</th>\n",
       "      <th>submission_of_application</th>\n",
       "      <th>LTV</th>\n",
       "      <th>Region</th>\n",
       "      <th>Security_Type</th>\n",
       "      <th>Status</th>\n",
       "      <th>dtir1</th>\n",
       "    </tr>\n",
       "  </thead>\n",
       "  <tbody>\n",
       "    <tr>\n",
       "      <th>0</th>\n",
       "      <td>24890</td>\n",
       "      <td>2019</td>\n",
       "      <td>cf</td>\n",
       "      <td>Sex Not Available</td>\n",
       "      <td>nopre</td>\n",
       "      <td>type1</td>\n",
       "      <td>p1</td>\n",
       "      <td>l1</td>\n",
       "      <td>nopc</td>\n",
       "      <td>nob/c</td>\n",
       "      <td>...</td>\n",
       "      <td>EXP</td>\n",
       "      <td>758</td>\n",
       "      <td>CIB</td>\n",
       "      <td>25-34</td>\n",
       "      <td>to_inst</td>\n",
       "      <td>98.728814</td>\n",
       "      <td>south</td>\n",
       "      <td>direct</td>\n",
       "      <td>1</td>\n",
       "      <td>45.0</td>\n",
       "    </tr>\n",
       "    <tr>\n",
       "      <th>1</th>\n",
       "      <td>24891</td>\n",
       "      <td>2019</td>\n",
       "      <td>cf</td>\n",
       "      <td>Male</td>\n",
       "      <td>nopre</td>\n",
       "      <td>type2</td>\n",
       "      <td>p1</td>\n",
       "      <td>l1</td>\n",
       "      <td>nopc</td>\n",
       "      <td>b/c</td>\n",
       "      <td>...</td>\n",
       "      <td>EQUI</td>\n",
       "      <td>552</td>\n",
       "      <td>EXP</td>\n",
       "      <td>55-64</td>\n",
       "      <td>to_inst</td>\n",
       "      <td>NaN</td>\n",
       "      <td>North</td>\n",
       "      <td>direct</td>\n",
       "      <td>1</td>\n",
       "      <td>NaN</td>\n",
       "    </tr>\n",
       "    <tr>\n",
       "      <th>2</th>\n",
       "      <td>24892</td>\n",
       "      <td>2019</td>\n",
       "      <td>cf</td>\n",
       "      <td>Male</td>\n",
       "      <td>pre</td>\n",
       "      <td>type1</td>\n",
       "      <td>p1</td>\n",
       "      <td>l1</td>\n",
       "      <td>nopc</td>\n",
       "      <td>nob/c</td>\n",
       "      <td>...</td>\n",
       "      <td>EXP</td>\n",
       "      <td>834</td>\n",
       "      <td>CIB</td>\n",
       "      <td>35-44</td>\n",
       "      <td>to_inst</td>\n",
       "      <td>80.019685</td>\n",
       "      <td>south</td>\n",
       "      <td>direct</td>\n",
       "      <td>0</td>\n",
       "      <td>46.0</td>\n",
       "    </tr>\n",
       "    <tr>\n",
       "      <th>3</th>\n",
       "      <td>24893</td>\n",
       "      <td>2019</td>\n",
       "      <td>cf</td>\n",
       "      <td>Male</td>\n",
       "      <td>nopre</td>\n",
       "      <td>type1</td>\n",
       "      <td>p4</td>\n",
       "      <td>l1</td>\n",
       "      <td>nopc</td>\n",
       "      <td>nob/c</td>\n",
       "      <td>...</td>\n",
       "      <td>EXP</td>\n",
       "      <td>587</td>\n",
       "      <td>CIB</td>\n",
       "      <td>45-54</td>\n",
       "      <td>not_inst</td>\n",
       "      <td>69.376900</td>\n",
       "      <td>North</td>\n",
       "      <td>direct</td>\n",
       "      <td>0</td>\n",
       "      <td>42.0</td>\n",
       "    </tr>\n",
       "    <tr>\n",
       "      <th>4</th>\n",
       "      <td>24894</td>\n",
       "      <td>2019</td>\n",
       "      <td>cf</td>\n",
       "      <td>Joint</td>\n",
       "      <td>pre</td>\n",
       "      <td>type1</td>\n",
       "      <td>p1</td>\n",
       "      <td>l1</td>\n",
       "      <td>nopc</td>\n",
       "      <td>nob/c</td>\n",
       "      <td>...</td>\n",
       "      <td>CRIF</td>\n",
       "      <td>602</td>\n",
       "      <td>EXP</td>\n",
       "      <td>25-34</td>\n",
       "      <td>not_inst</td>\n",
       "      <td>91.886544</td>\n",
       "      <td>North</td>\n",
       "      <td>direct</td>\n",
       "      <td>0</td>\n",
       "      <td>39.0</td>\n",
       "    </tr>\n",
       "  </tbody>\n",
       "</table>\n",
       "<p>5 rows × 34 columns</p>\n",
       "</div>"
      ],
      "text/plain": [
       "      ID  year loan_limit             Gender approv_in_adv loan_type  \\\n",
       "0  24890  2019         cf  Sex Not Available         nopre     type1   \n",
       "1  24891  2019         cf               Male         nopre     type2   \n",
       "2  24892  2019         cf               Male           pre     type1   \n",
       "3  24893  2019         cf               Male         nopre     type1   \n",
       "4  24894  2019         cf              Joint           pre     type1   \n",
       "\n",
       "  loan_purpose Credit_Worthiness open_credit business_or_commercial  ...  \\\n",
       "0           p1                l1        nopc                  nob/c  ...   \n",
       "1           p1                l1        nopc                    b/c  ...   \n",
       "2           p1                l1        nopc                  nob/c  ...   \n",
       "3           p4                l1        nopc                  nob/c  ...   \n",
       "4           p1                l1        nopc                  nob/c  ...   \n",
       "\n",
       "   credit_type  Credit_Score  co-applicant_credit_type    age  \\\n",
       "0          EXP           758                       CIB  25-34   \n",
       "1         EQUI           552                       EXP  55-64   \n",
       "2          EXP           834                       CIB  35-44   \n",
       "3          EXP           587                       CIB  45-54   \n",
       "4         CRIF           602                       EXP  25-34   \n",
       "\n",
       "   submission_of_application        LTV Region Security_Type  Status dtir1  \n",
       "0                    to_inst  98.728814  south        direct       1  45.0  \n",
       "1                    to_inst        NaN  North        direct       1   NaN  \n",
       "2                    to_inst  80.019685  south        direct       0  46.0  \n",
       "3                   not_inst  69.376900  North        direct       0  42.0  \n",
       "4                   not_inst  91.886544  North        direct       0  39.0  \n",
       "\n",
       "[5 rows x 34 columns]"
      ]
     },
     "execution_count": 2,
     "metadata": {},
     "output_type": "execute_result"
    }
   ],
   "source": [
    "df1 = pd.read_csv(\"/kaggle/input/loan-default-dataset/Loan_Default.csv\")\n",
    "df1.head()"
   ]
  },
  {
   "cell_type": "code",
   "execution_count": 3,
   "id": "9a7db4d7",
   "metadata": {
    "execution": {
     "iopub.execute_input": "2023-08-16T06:22:21.807623Z",
     "iopub.status.busy": "2023-08-16T06:22:21.807209Z",
     "iopub.status.idle": "2023-08-16T06:22:21.814443Z",
     "shell.execute_reply": "2023-08-16T06:22:21.813291Z"
    },
    "id": "KczxCavtIorN",
    "outputId": "41a619bd-ebba-435e-aad6-09cc3d33226d",
    "papermill": {
     "duration": 0.0169,
     "end_time": "2023-08-16T06:22:21.816537",
     "exception": false,
     "start_time": "2023-08-16T06:22:21.799637",
     "status": "completed"
    },
    "tags": []
   },
   "outputs": [
    {
     "data": {
      "text/plain": [
       "Index(['ID', 'year', 'loan_limit', 'Gender', 'approv_in_adv', 'loan_type',\n",
       "       'loan_purpose', 'Credit_Worthiness', 'open_credit',\n",
       "       'business_or_commercial', 'loan_amount', 'rate_of_interest',\n",
       "       'Interest_rate_spread', 'Upfront_charges', 'term', 'Neg_ammortization',\n",
       "       'interest_only', 'lump_sum_payment', 'property_value',\n",
       "       'construction_type', 'occupancy_type', 'Secured_by', 'total_units',\n",
       "       'income', 'credit_type', 'Credit_Score', 'co-applicant_credit_type',\n",
       "       'age', 'submission_of_application', 'LTV', 'Region', 'Security_Type',\n",
       "       'Status', 'dtir1'],\n",
       "      dtype='object')"
      ]
     },
     "execution_count": 3,
     "metadata": {},
     "output_type": "execute_result"
    }
   ],
   "source": [
    "df1.columns"
   ]
  },
  {
   "cell_type": "code",
   "execution_count": 4,
   "id": "cde8dc45",
   "metadata": {
    "execution": {
     "iopub.execute_input": "2023-08-16T06:22:21.829652Z",
     "iopub.status.busy": "2023-08-16T06:22:21.829256Z",
     "iopub.status.idle": "2023-08-16T06:22:21.882511Z",
     "shell.execute_reply": "2023-08-16T06:22:21.881350Z"
    },
    "id": "sn5-uaHRJDPQ",
    "outputId": "51714597-6a6f-4d46-95c0-3fc58fb29d2a",
    "papermill": {
     "duration": 0.062544,
     "end_time": "2023-08-16T06:22:21.884745",
     "exception": false,
     "start_time": "2023-08-16T06:22:21.822201",
     "status": "completed"
    },
    "tags": []
   },
   "outputs": [
    {
     "data": {
      "text/html": [
       "<div>\n",
       "<style scoped>\n",
       "    .dataframe tbody tr th:only-of-type {\n",
       "        vertical-align: middle;\n",
       "    }\n",
       "\n",
       "    .dataframe tbody tr th {\n",
       "        vertical-align: top;\n",
       "    }\n",
       "\n",
       "    .dataframe thead th {\n",
       "        text-align: right;\n",
       "    }\n",
       "</style>\n",
       "<table border=\"1\" class=\"dataframe\">\n",
       "  <thead>\n",
       "    <tr style=\"text-align: right;\">\n",
       "      <th></th>\n",
       "      <th>loan_limit</th>\n",
       "      <th>approv_in_adv</th>\n",
       "      <th>loan_type</th>\n",
       "      <th>loan_purpose</th>\n",
       "      <th>Credit_Worthiness</th>\n",
       "      <th>open_credit</th>\n",
       "      <th>business_or_commercial</th>\n",
       "      <th>loan_amount</th>\n",
       "      <th>term</th>\n",
       "      <th>Neg_ammortization</th>\n",
       "      <th>...</th>\n",
       "      <th>credit_type</th>\n",
       "      <th>Credit_Score</th>\n",
       "      <th>co-applicant_credit_type</th>\n",
       "      <th>age</th>\n",
       "      <th>submission_of_application</th>\n",
       "      <th>LTV</th>\n",
       "      <th>Region</th>\n",
       "      <th>Security_Type</th>\n",
       "      <th>Status</th>\n",
       "      <th>dtir1</th>\n",
       "    </tr>\n",
       "  </thead>\n",
       "  <tbody>\n",
       "    <tr>\n",
       "      <th>0</th>\n",
       "      <td>cf</td>\n",
       "      <td>nopre</td>\n",
       "      <td>type1</td>\n",
       "      <td>p1</td>\n",
       "      <td>l1</td>\n",
       "      <td>nopc</td>\n",
       "      <td>nob/c</td>\n",
       "      <td>116500</td>\n",
       "      <td>360.0</td>\n",
       "      <td>not_neg</td>\n",
       "      <td>...</td>\n",
       "      <td>EXP</td>\n",
       "      <td>758</td>\n",
       "      <td>CIB</td>\n",
       "      <td>25-34</td>\n",
       "      <td>to_inst</td>\n",
       "      <td>98.728814</td>\n",
       "      <td>south</td>\n",
       "      <td>direct</td>\n",
       "      <td>1</td>\n",
       "      <td>45.0</td>\n",
       "    </tr>\n",
       "    <tr>\n",
       "      <th>1</th>\n",
       "      <td>cf</td>\n",
       "      <td>nopre</td>\n",
       "      <td>type2</td>\n",
       "      <td>p1</td>\n",
       "      <td>l1</td>\n",
       "      <td>nopc</td>\n",
       "      <td>b/c</td>\n",
       "      <td>206500</td>\n",
       "      <td>360.0</td>\n",
       "      <td>not_neg</td>\n",
       "      <td>...</td>\n",
       "      <td>EQUI</td>\n",
       "      <td>552</td>\n",
       "      <td>EXP</td>\n",
       "      <td>55-64</td>\n",
       "      <td>to_inst</td>\n",
       "      <td>NaN</td>\n",
       "      <td>North</td>\n",
       "      <td>direct</td>\n",
       "      <td>1</td>\n",
       "      <td>NaN</td>\n",
       "    </tr>\n",
       "    <tr>\n",
       "      <th>2</th>\n",
       "      <td>cf</td>\n",
       "      <td>pre</td>\n",
       "      <td>type1</td>\n",
       "      <td>p1</td>\n",
       "      <td>l1</td>\n",
       "      <td>nopc</td>\n",
       "      <td>nob/c</td>\n",
       "      <td>406500</td>\n",
       "      <td>360.0</td>\n",
       "      <td>neg_amm</td>\n",
       "      <td>...</td>\n",
       "      <td>EXP</td>\n",
       "      <td>834</td>\n",
       "      <td>CIB</td>\n",
       "      <td>35-44</td>\n",
       "      <td>to_inst</td>\n",
       "      <td>80.019685</td>\n",
       "      <td>south</td>\n",
       "      <td>direct</td>\n",
       "      <td>0</td>\n",
       "      <td>46.0</td>\n",
       "    </tr>\n",
       "    <tr>\n",
       "      <th>3</th>\n",
       "      <td>cf</td>\n",
       "      <td>nopre</td>\n",
       "      <td>type1</td>\n",
       "      <td>p4</td>\n",
       "      <td>l1</td>\n",
       "      <td>nopc</td>\n",
       "      <td>nob/c</td>\n",
       "      <td>456500</td>\n",
       "      <td>360.0</td>\n",
       "      <td>not_neg</td>\n",
       "      <td>...</td>\n",
       "      <td>EXP</td>\n",
       "      <td>587</td>\n",
       "      <td>CIB</td>\n",
       "      <td>45-54</td>\n",
       "      <td>not_inst</td>\n",
       "      <td>69.376900</td>\n",
       "      <td>North</td>\n",
       "      <td>direct</td>\n",
       "      <td>0</td>\n",
       "      <td>42.0</td>\n",
       "    </tr>\n",
       "    <tr>\n",
       "      <th>4</th>\n",
       "      <td>cf</td>\n",
       "      <td>pre</td>\n",
       "      <td>type1</td>\n",
       "      <td>p1</td>\n",
       "      <td>l1</td>\n",
       "      <td>nopc</td>\n",
       "      <td>nob/c</td>\n",
       "      <td>696500</td>\n",
       "      <td>360.0</td>\n",
       "      <td>not_neg</td>\n",
       "      <td>...</td>\n",
       "      <td>CRIF</td>\n",
       "      <td>602</td>\n",
       "      <td>EXP</td>\n",
       "      <td>25-34</td>\n",
       "      <td>not_inst</td>\n",
       "      <td>91.886544</td>\n",
       "      <td>North</td>\n",
       "      <td>direct</td>\n",
       "      <td>0</td>\n",
       "      <td>39.0</td>\n",
       "    </tr>\n",
       "  </tbody>\n",
       "</table>\n",
       "<p>5 rows × 28 columns</p>\n",
       "</div>"
      ],
      "text/plain": [
       "  loan_limit approv_in_adv loan_type loan_purpose Credit_Worthiness  \\\n",
       "0         cf         nopre     type1           p1                l1   \n",
       "1         cf         nopre     type2           p1                l1   \n",
       "2         cf           pre     type1           p1                l1   \n",
       "3         cf         nopre     type1           p4                l1   \n",
       "4         cf           pre     type1           p1                l1   \n",
       "\n",
       "  open_credit business_or_commercial  loan_amount   term Neg_ammortization  \\\n",
       "0        nopc                  nob/c       116500  360.0           not_neg   \n",
       "1        nopc                    b/c       206500  360.0           not_neg   \n",
       "2        nopc                  nob/c       406500  360.0           neg_amm   \n",
       "3        nopc                  nob/c       456500  360.0           not_neg   \n",
       "4        nopc                  nob/c       696500  360.0           not_neg   \n",
       "\n",
       "   ... credit_type Credit_Score  co-applicant_credit_type    age  \\\n",
       "0  ...         EXP          758                       CIB  25-34   \n",
       "1  ...        EQUI          552                       EXP  55-64   \n",
       "2  ...         EXP          834                       CIB  35-44   \n",
       "3  ...         EXP          587                       CIB  45-54   \n",
       "4  ...        CRIF          602                       EXP  25-34   \n",
       "\n",
       "  submission_of_application        LTV Region  Security_Type Status  dtir1  \n",
       "0                   to_inst  98.728814  south         direct      1   45.0  \n",
       "1                   to_inst        NaN  North         direct      1    NaN  \n",
       "2                   to_inst  80.019685  south         direct      0   46.0  \n",
       "3                  not_inst  69.376900  North         direct      0   42.0  \n",
       "4                  not_inst  91.886544  North         direct      0   39.0  \n",
       "\n",
       "[5 rows x 28 columns]"
      ]
     },
     "execution_count": 4,
     "metadata": {},
     "output_type": "execute_result"
    }
   ],
   "source": [
    "#Dropping the columns that are not relevant to target prediction\n",
    "df2 = df1.drop(['ID','year','rate_of_interest','Interest_rate_spread','Upfront_charges','Gender'],axis='columns')\n",
    "df2.head()"
   ]
  },
  {
   "cell_type": "markdown",
   "id": "aab085cb",
   "metadata": {
    "id": "RNcvGiAQV5C9",
    "papermill": {
     "duration": 0.005714,
     "end_time": "2023-08-16T06:22:21.896692",
     "exception": false,
     "start_time": "2023-08-16T06:22:21.890978",
     "status": "completed"
    },
    "tags": []
   },
   "source": [
    "**Droping tthe NAN values from the dataframe**"
   ]
  },
  {
   "cell_type": "code",
   "execution_count": 5,
   "id": "8edcc1a0",
   "metadata": {
    "execution": {
     "iopub.execute_input": "2023-08-16T06:22:21.910548Z",
     "iopub.status.busy": "2023-08-16T06:22:21.910145Z",
     "iopub.status.idle": "2023-08-16T06:22:22.357872Z",
     "shell.execute_reply": "2023-08-16T06:22:22.356486Z"
    },
    "id": "vYkbIMiQJzw1",
    "outputId": "29d0ab9d-7209-4659-97cb-41cdbde67592",
    "papermill": {
     "duration": 0.45781,
     "end_time": "2023-08-16T06:22:22.360487",
     "exception": false,
     "start_time": "2023-08-16T06:22:21.902677",
     "status": "completed"
    },
    "tags": []
   },
   "outputs": [
    {
     "data": {
      "text/plain": [
       "loan_limit                    3344\n",
       "approv_in_adv                  908\n",
       "loan_type                        0\n",
       "loan_purpose                   134\n",
       "Credit_Worthiness                0\n",
       "open_credit                      0\n",
       "business_or_commercial           0\n",
       "loan_amount                      0\n",
       "term                            41\n",
       "Neg_ammortization              121\n",
       "interest_only                    0\n",
       "lump_sum_payment                 0\n",
       "property_value               15098\n",
       "construction_type                0\n",
       "occupancy_type                   0\n",
       "Secured_by                       0\n",
       "total_units                      0\n",
       "income                        9150\n",
       "credit_type                      0\n",
       "Credit_Score                     0\n",
       "co-applicant_credit_type         0\n",
       "age                            200\n",
       "submission_of_application      200\n",
       "LTV                          15098\n",
       "Region                           0\n",
       "Security_Type                    0\n",
       "Status                           0\n",
       "dtir1                        24121\n",
       "dtype: int64"
      ]
     },
     "execution_count": 5,
     "metadata": {},
     "output_type": "execute_result"
    }
   ],
   "source": [
    "df2.isnull().sum()"
   ]
  },
  {
   "cell_type": "code",
   "execution_count": 6,
   "id": "2befac74",
   "metadata": {
    "execution": {
     "iopub.execute_input": "2023-08-16T06:22:22.376111Z",
     "iopub.status.busy": "2023-08-16T06:22:22.375693Z",
     "iopub.status.idle": "2023-08-16T06:22:23.203635Z",
     "shell.execute_reply": "2023-08-16T06:22:23.202683Z"
    },
    "id": "TqbOOdrbJ-wH",
    "outputId": "dc6730be-ef41-4610-c982-152358dbe5f0",
    "papermill": {
     "duration": 0.838908,
     "end_time": "2023-08-16T06:22:23.205757",
     "exception": false,
     "start_time": "2023-08-16T06:22:22.366849",
     "status": "completed"
    },
    "tags": []
   },
   "outputs": [
    {
     "data": {
      "text/plain": [
       "loan_limit                   0\n",
       "approv_in_adv                0\n",
       "loan_type                    0\n",
       "loan_purpose                 0\n",
       "Credit_Worthiness            0\n",
       "open_credit                  0\n",
       "business_or_commercial       0\n",
       "loan_amount                  0\n",
       "term                         0\n",
       "Neg_ammortization            0\n",
       "interest_only                0\n",
       "lump_sum_payment             0\n",
       "property_value               0\n",
       "construction_type            0\n",
       "occupancy_type               0\n",
       "Secured_by                   0\n",
       "total_units                  0\n",
       "income                       0\n",
       "credit_type                  0\n",
       "Credit_Score                 0\n",
       "co-applicant_credit_type     0\n",
       "age                          0\n",
       "submission_of_application    0\n",
       "LTV                          0\n",
       "Region                       0\n",
       "Security_Type                0\n",
       "Status                       0\n",
       "dtir1                        0\n",
       "dtype: int64"
      ]
     },
     "execution_count": 6,
     "metadata": {},
     "output_type": "execute_result"
    }
   ],
   "source": [
    "df3 = df2.dropna()\n",
    "df3.isnull().sum()"
   ]
  },
  {
   "cell_type": "markdown",
   "id": "5a23a7f5",
   "metadata": {
    "id": "xyK0rIhUWVOn",
    "papermill": {
     "duration": 0.006152,
     "end_time": "2023-08-16T06:22:23.218337",
     "exception": false,
     "start_time": "2023-08-16T06:22:23.212185",
     "status": "completed"
    },
    "tags": []
   },
   "source": [
    "**Converting the age range and string units into a float value**"
   ]
  },
  {
   "cell_type": "code",
   "execution_count": 7,
   "id": "ef9875ce",
   "metadata": {
    "execution": {
     "iopub.execute_input": "2023-08-16T06:22:23.233380Z",
     "iopub.status.busy": "2023-08-16T06:22:23.232240Z",
     "iopub.status.idle": "2023-08-16T06:22:23.237986Z",
     "shell.execute_reply": "2023-08-16T06:22:23.236888Z"
    },
    "id": "bttUSMUNKM5v",
    "papermill": {
     "duration": 0.015513,
     "end_time": "2023-08-16T06:22:23.240246",
     "exception": false,
     "start_time": "2023-08-16T06:22:23.224733",
     "status": "completed"
    },
    "tags": []
   },
   "outputs": [],
   "source": [
    "#Function for the convertion of range string to numerical value\n",
    "def convert_sqft_to_num(x):\n",
    "    tokens = x.split('-')\n",
    "    if len(tokens) == 2:\n",
    "        return (float(tokens[0])+float(tokens[1]))/2\n",
    "    try:\n",
    "        return float(x)\n",
    "    except:\n",
    "        return None   "
   ]
  },
  {
   "cell_type": "code",
   "execution_count": 8,
   "id": "7dc54d77",
   "metadata": {
    "execution": {
     "iopub.execute_input": "2023-08-16T06:22:23.254818Z",
     "iopub.status.busy": "2023-08-16T06:22:23.254377Z",
     "iopub.status.idle": "2023-08-16T06:22:23.492911Z",
     "shell.execute_reply": "2023-08-16T06:22:23.491744Z"
    },
    "id": "3md2i9PKSPyB",
    "outputId": "ad80b02e-1dce-4c17-d729-737fe54a027c",
    "papermill": {
     "duration": 0.248981,
     "end_time": "2023-08-16T06:22:23.495514",
     "exception": false,
     "start_time": "2023-08-16T06:22:23.246533",
     "status": "completed"
    },
    "tags": []
   },
   "outputs": [
    {
     "data": {
      "text/html": [
       "<div>\n",
       "<style scoped>\n",
       "    .dataframe tbody tr th:only-of-type {\n",
       "        vertical-align: middle;\n",
       "    }\n",
       "\n",
       "    .dataframe tbody tr th {\n",
       "        vertical-align: top;\n",
       "    }\n",
       "\n",
       "    .dataframe thead th {\n",
       "        text-align: right;\n",
       "    }\n",
       "</style>\n",
       "<table border=\"1\" class=\"dataframe\">\n",
       "  <thead>\n",
       "    <tr style=\"text-align: right;\">\n",
       "      <th></th>\n",
       "      <th>loan_limit</th>\n",
       "      <th>approv_in_adv</th>\n",
       "      <th>loan_type</th>\n",
       "      <th>loan_purpose</th>\n",
       "      <th>Credit_Worthiness</th>\n",
       "      <th>open_credit</th>\n",
       "      <th>business_or_commercial</th>\n",
       "      <th>loan_amount</th>\n",
       "      <th>term</th>\n",
       "      <th>Neg_ammortization</th>\n",
       "      <th>...</th>\n",
       "      <th>credit_type</th>\n",
       "      <th>Credit_Score</th>\n",
       "      <th>co-applicant_credit_type</th>\n",
       "      <th>age</th>\n",
       "      <th>submission_of_application</th>\n",
       "      <th>LTV</th>\n",
       "      <th>Region</th>\n",
       "      <th>Security_Type</th>\n",
       "      <th>Status</th>\n",
       "      <th>dtir1</th>\n",
       "    </tr>\n",
       "  </thead>\n",
       "  <tbody>\n",
       "    <tr>\n",
       "      <th>0</th>\n",
       "      <td>cf</td>\n",
       "      <td>nopre</td>\n",
       "      <td>type1</td>\n",
       "      <td>p1</td>\n",
       "      <td>l1</td>\n",
       "      <td>nopc</td>\n",
       "      <td>nob/c</td>\n",
       "      <td>116500</td>\n",
       "      <td>360.0</td>\n",
       "      <td>not_neg</td>\n",
       "      <td>...</td>\n",
       "      <td>EXP</td>\n",
       "      <td>758</td>\n",
       "      <td>CIB</td>\n",
       "      <td>29.5</td>\n",
       "      <td>to_inst</td>\n",
       "      <td>98.728814</td>\n",
       "      <td>south</td>\n",
       "      <td>direct</td>\n",
       "      <td>1</td>\n",
       "      <td>45.0</td>\n",
       "    </tr>\n",
       "    <tr>\n",
       "      <th>2</th>\n",
       "      <td>cf</td>\n",
       "      <td>pre</td>\n",
       "      <td>type1</td>\n",
       "      <td>p1</td>\n",
       "      <td>l1</td>\n",
       "      <td>nopc</td>\n",
       "      <td>nob/c</td>\n",
       "      <td>406500</td>\n",
       "      <td>360.0</td>\n",
       "      <td>neg_amm</td>\n",
       "      <td>...</td>\n",
       "      <td>EXP</td>\n",
       "      <td>834</td>\n",
       "      <td>CIB</td>\n",
       "      <td>39.5</td>\n",
       "      <td>to_inst</td>\n",
       "      <td>80.019685</td>\n",
       "      <td>south</td>\n",
       "      <td>direct</td>\n",
       "      <td>0</td>\n",
       "      <td>46.0</td>\n",
       "    </tr>\n",
       "    <tr>\n",
       "      <th>3</th>\n",
       "      <td>cf</td>\n",
       "      <td>nopre</td>\n",
       "      <td>type1</td>\n",
       "      <td>p4</td>\n",
       "      <td>l1</td>\n",
       "      <td>nopc</td>\n",
       "      <td>nob/c</td>\n",
       "      <td>456500</td>\n",
       "      <td>360.0</td>\n",
       "      <td>not_neg</td>\n",
       "      <td>...</td>\n",
       "      <td>EXP</td>\n",
       "      <td>587</td>\n",
       "      <td>CIB</td>\n",
       "      <td>49.5</td>\n",
       "      <td>not_inst</td>\n",
       "      <td>69.376900</td>\n",
       "      <td>North</td>\n",
       "      <td>direct</td>\n",
       "      <td>0</td>\n",
       "      <td>42.0</td>\n",
       "    </tr>\n",
       "    <tr>\n",
       "      <th>4</th>\n",
       "      <td>cf</td>\n",
       "      <td>pre</td>\n",
       "      <td>type1</td>\n",
       "      <td>p1</td>\n",
       "      <td>l1</td>\n",
       "      <td>nopc</td>\n",
       "      <td>nob/c</td>\n",
       "      <td>696500</td>\n",
       "      <td>360.0</td>\n",
       "      <td>not_neg</td>\n",
       "      <td>...</td>\n",
       "      <td>CRIF</td>\n",
       "      <td>602</td>\n",
       "      <td>EXP</td>\n",
       "      <td>29.5</td>\n",
       "      <td>not_inst</td>\n",
       "      <td>91.886544</td>\n",
       "      <td>North</td>\n",
       "      <td>direct</td>\n",
       "      <td>0</td>\n",
       "      <td>39.0</td>\n",
       "    </tr>\n",
       "    <tr>\n",
       "      <th>5</th>\n",
       "      <td>cf</td>\n",
       "      <td>pre</td>\n",
       "      <td>type1</td>\n",
       "      <td>p1</td>\n",
       "      <td>l1</td>\n",
       "      <td>nopc</td>\n",
       "      <td>nob/c</td>\n",
       "      <td>706500</td>\n",
       "      <td>360.0</td>\n",
       "      <td>not_neg</td>\n",
       "      <td>...</td>\n",
       "      <td>EXP</td>\n",
       "      <td>864</td>\n",
       "      <td>EXP</td>\n",
       "      <td>39.5</td>\n",
       "      <td>not_inst</td>\n",
       "      <td>70.089286</td>\n",
       "      <td>North</td>\n",
       "      <td>direct</td>\n",
       "      <td>0</td>\n",
       "      <td>40.0</td>\n",
       "    </tr>\n",
       "  </tbody>\n",
       "</table>\n",
       "<p>5 rows × 28 columns</p>\n",
       "</div>"
      ],
      "text/plain": [
       "  loan_limit approv_in_adv loan_type loan_purpose Credit_Worthiness  \\\n",
       "0         cf         nopre     type1           p1                l1   \n",
       "2         cf           pre     type1           p1                l1   \n",
       "3         cf         nopre     type1           p4                l1   \n",
       "4         cf           pre     type1           p1                l1   \n",
       "5         cf           pre     type1           p1                l1   \n",
       "\n",
       "  open_credit business_or_commercial  loan_amount   term Neg_ammortization  \\\n",
       "0        nopc                  nob/c       116500  360.0           not_neg   \n",
       "2        nopc                  nob/c       406500  360.0           neg_amm   \n",
       "3        nopc                  nob/c       456500  360.0           not_neg   \n",
       "4        nopc                  nob/c       696500  360.0           not_neg   \n",
       "5        nopc                  nob/c       706500  360.0           not_neg   \n",
       "\n",
       "   ... credit_type Credit_Score  co-applicant_credit_type   age  \\\n",
       "0  ...         EXP          758                       CIB  29.5   \n",
       "2  ...         EXP          834                       CIB  39.5   \n",
       "3  ...         EXP          587                       CIB  49.5   \n",
       "4  ...        CRIF          602                       EXP  29.5   \n",
       "5  ...         EXP          864                       EXP  39.5   \n",
       "\n",
       "  submission_of_application        LTV Region  Security_Type Status  dtir1  \n",
       "0                   to_inst  98.728814  south         direct      1   45.0  \n",
       "2                   to_inst  80.019685  south         direct      0   46.0  \n",
       "3                  not_inst  69.376900  North         direct      0   42.0  \n",
       "4                  not_inst  91.886544  North         direct      0   39.0  \n",
       "5                  not_inst  70.089286  North         direct      0   40.0  \n",
       "\n",
       "[5 rows x 28 columns]"
      ]
     },
     "execution_count": 8,
     "metadata": {},
     "output_type": "execute_result"
    }
   ],
   "source": [
    "#applying the function of the dataset\n",
    "df4 = df3.copy()\n",
    "df4.age = df4.age.apply(convert_sqft_to_num)\n",
    "df4 = df4[df4.age.notnull()]\n",
    "df4.head()"
   ]
  },
  {
   "cell_type": "code",
   "execution_count": 9,
   "id": "ad40293d",
   "metadata": {
    "execution": {
     "iopub.execute_input": "2023-08-16T06:22:23.511115Z",
     "iopub.status.busy": "2023-08-16T06:22:23.510703Z",
     "iopub.status.idle": "2023-08-16T06:22:23.598090Z",
     "shell.execute_reply": "2023-08-16T06:22:23.596904Z"
    },
    "id": "pMc7XSxqYGLh",
    "outputId": "69ebc0aa-43fe-49a0-ccb7-4cbcc416ecca",
    "papermill": {
     "duration": 0.098216,
     "end_time": "2023-08-16T06:22:23.600555",
     "exception": false,
     "start_time": "2023-08-16T06:22:23.502339",
     "status": "completed"
    },
    "tags": []
   },
   "outputs": [
    {
     "data": {
      "text/plain": [
       "array([1, 2, 3, 4])"
      ]
     },
     "execution_count": 9,
     "metadata": {},
     "output_type": "execute_result"
    }
   ],
   "source": [
    "#Converting the stings(xu) into integer(x)\n",
    "df4['total_units'] = df3['total_units'].apply(lambda x: int(x[0]))\n",
    "df4.total_units.unique()"
   ]
  },
  {
   "cell_type": "markdown",
   "id": "ccdfd786",
   "metadata": {
    "id": "IEba7FlJXXpH",
    "papermill": {
     "duration": 0.006345,
     "end_time": "2023-08-16T06:22:23.613729",
     "exception": false,
     "start_time": "2023-08-16T06:22:23.607384",
     "status": "completed"
    },
    "tags": []
   },
   "source": [
    "**Converting the Categorical data columns into numerical values using onehot encoding**"
   ]
  },
  {
   "cell_type": "code",
   "execution_count": 10,
   "id": "060f7dee",
   "metadata": {
    "execution": {
     "iopub.execute_input": "2023-08-16T06:22:23.629358Z",
     "iopub.status.busy": "2023-08-16T06:22:23.628358Z",
     "iopub.status.idle": "2023-08-16T06:22:23.637150Z",
     "shell.execute_reply": "2023-08-16T06:22:23.636110Z"
    },
    "id": "hJnT9St10JEh",
    "outputId": "6ca5cfb8-290d-4fd7-de1e-6167f3bebc57",
    "papermill": {
     "duration": 0.018947,
     "end_time": "2023-08-16T06:22:23.639319",
     "exception": false,
     "start_time": "2023-08-16T06:22:23.620372",
     "status": "completed"
    },
    "tags": []
   },
   "outputs": [
    {
     "data": {
      "text/plain": [
       "[0, 1, 2, 3, 4, 5, 6, 9, 10, 11, 13, 14, 15, 18, 20, 22, 24, 25]"
      ]
     },
     "execution_count": 10,
     "metadata": {},
     "output_type": "execute_result"
    }
   ],
   "source": [
    "#Function  to list the columns having categorical data \n",
    "obj=[]\n",
    "for i in df4.columns:\n",
    "    if df4[i].dtype=='object':\n",
    "        obj.append(i)\n",
    "obj\n",
    "l=[]\n",
    "for i in obj:\n",
    "    l.append(df4.columns.get_loc(i))\n",
    "l"
   ]
  },
  {
   "cell_type": "code",
   "execution_count": 11,
   "id": "124426a8",
   "metadata": {
    "execution": {
     "iopub.execute_input": "2023-08-16T06:22:23.655000Z",
     "iopub.status.busy": "2023-08-16T06:22:23.654608Z",
     "iopub.status.idle": "2023-08-16T06:22:23.687235Z",
     "shell.execute_reply": "2023-08-16T06:22:23.685976Z"
    },
    "id": "hmtRlufHMLfT",
    "papermill": {
     "duration": 0.043108,
     "end_time": "2023-08-16T06:22:23.689742",
     "exception": false,
     "start_time": "2023-08-16T06:22:23.646634",
     "status": "completed"
    },
    "tags": []
   },
   "outputs": [],
   "source": [
    "#Dividing the input and output values from the dataset\n",
    "y=df4['Status']\n",
    "X = df4.drop(['Status'],axis='columns')"
   ]
  },
  {
   "cell_type": "code",
   "execution_count": 12,
   "id": "565980ef",
   "metadata": {
    "execution": {
     "iopub.execute_input": "2023-08-16T06:22:23.705683Z",
     "iopub.status.busy": "2023-08-16T06:22:23.705252Z",
     "iopub.status.idle": "2023-08-16T06:22:25.067116Z",
     "shell.execute_reply": "2023-08-16T06:22:25.065978Z"
    },
    "id": "oooek6QYMrN3",
    "papermill": {
     "duration": 1.373897,
     "end_time": "2023-08-16T06:22:25.070675",
     "exception": false,
     "start_time": "2023-08-16T06:22:23.696778",
     "status": "completed"
    },
    "tags": []
   },
   "outputs": [
    {
     "name": "stderr",
     "output_type": "stream",
     "text": [
      "/opt/conda/lib/python3.10/site-packages/scipy/__init__.py:146: UserWarning: A NumPy version >=1.16.5 and <1.23.0 is required for this version of SciPy (detected version 1.23.5\n",
      "  warnings.warn(f\"A NumPy version >={np_minversion} and <{np_maxversion}\"\n"
     ]
    }
   ],
   "source": [
    "#Diving the dataset into train and test \n",
    "from sklearn.model_selection import train_test_split\n",
    "X_train, X_test, y_train, y_test = train_test_split(X,y,test_size=0.25,random_state=10)"
   ]
  },
  {
   "cell_type": "code",
   "execution_count": 13,
   "id": "af1842bd",
   "metadata": {
    "execution": {
     "iopub.execute_input": "2023-08-16T06:22:25.088518Z",
     "iopub.status.busy": "2023-08-16T06:22:25.087333Z",
     "iopub.status.idle": "2023-08-16T06:22:25.829982Z",
     "shell.execute_reply": "2023-08-16T06:22:25.828836Z"
    },
    "id": "V6BwyUAOKk1W",
    "papermill": {
     "duration": 0.753237,
     "end_time": "2023-08-16T06:22:25.832396",
     "exception": false,
     "start_time": "2023-08-16T06:22:25.079159",
     "status": "completed"
    },
    "tags": []
   },
   "outputs": [],
   "source": [
    "from sklearn.compose import ColumnTransformer\n",
    "from sklearn.preprocessing import OneHotEncoder\n",
    "ct = ColumnTransformer(transformers=[('encoder',OneHotEncoder(),l)],remainder='passthrough')\n",
    "X_train = ct.fit_transform(X_train)\n",
    "X_test = ct.transform(X_test)"
   ]
  },
  {
   "cell_type": "markdown",
   "id": "15269df8",
   "metadata": {
    "id": "zLitJn-PYotM",
    "papermill": {
     "duration": 0.00732,
     "end_time": "2023-08-16T06:22:25.846769",
     "exception": false,
     "start_time": "2023-08-16T06:22:25.839449",
     "status": "completed"
    },
    "tags": []
   },
   "source": [
    "**Model bulding using logistic regression**"
   ]
  },
  {
   "cell_type": "code",
   "execution_count": 14,
   "id": "00e46ac4",
   "metadata": {
    "execution": {
     "iopub.execute_input": "2023-08-16T06:22:25.862419Z",
     "iopub.status.busy": "2023-08-16T06:22:25.862040Z",
     "iopub.status.idle": "2023-08-16T06:22:25.962390Z",
     "shell.execute_reply": "2023-08-16T06:22:25.961226Z"
    },
    "id": "kTYD86F6M6_p",
    "papermill": {
     "duration": 0.111093,
     "end_time": "2023-08-16T06:22:25.964933",
     "exception": false,
     "start_time": "2023-08-16T06:22:25.853840",
     "status": "completed"
    },
    "tags": []
   },
   "outputs": [],
   "source": [
    "#Fitting the Train Test data for model applying\n",
    "from sklearn.preprocessing import StandardScaler\n",
    "sc = StandardScaler()\n",
    "X_train = sc.fit_transform(X_train)\n",
    "X_test = sc.fit_transform(X_test)"
   ]
  },
  {
   "cell_type": "code",
   "execution_count": 15,
   "id": "f2c61fe2",
   "metadata": {
    "execution": {
     "iopub.execute_input": "2023-08-16T06:22:25.981491Z",
     "iopub.status.busy": "2023-08-16T06:22:25.980755Z",
     "iopub.status.idle": "2023-08-16T06:22:26.408391Z",
     "shell.execute_reply": "2023-08-16T06:22:26.407181Z"
    },
    "id": "iw0dFv9By1yO",
    "outputId": "90e33322-7152-40d2-cb23-0043dcc99916",
    "papermill": {
     "duration": 0.439567,
     "end_time": "2023-08-16T06:22:26.411911",
     "exception": false,
     "start_time": "2023-08-16T06:22:25.972344",
     "status": "completed"
    },
    "tags": []
   },
   "outputs": [
    {
     "data": {
      "text/html": [
       "<style>#sk-container-id-1 {color: black;background-color: white;}#sk-container-id-1 pre{padding: 0;}#sk-container-id-1 div.sk-toggleable {background-color: white;}#sk-container-id-1 label.sk-toggleable__label {cursor: pointer;display: block;width: 100%;margin-bottom: 0;padding: 0.3em;box-sizing: border-box;text-align: center;}#sk-container-id-1 label.sk-toggleable__label-arrow:before {content: \"▸\";float: left;margin-right: 0.25em;color: #696969;}#sk-container-id-1 label.sk-toggleable__label-arrow:hover:before {color: black;}#sk-container-id-1 div.sk-estimator:hover label.sk-toggleable__label-arrow:before {color: black;}#sk-container-id-1 div.sk-toggleable__content {max-height: 0;max-width: 0;overflow: hidden;text-align: left;background-color: #f0f8ff;}#sk-container-id-1 div.sk-toggleable__content pre {margin: 0.2em;color: black;border-radius: 0.25em;background-color: #f0f8ff;}#sk-container-id-1 input.sk-toggleable__control:checked~div.sk-toggleable__content {max-height: 200px;max-width: 100%;overflow: auto;}#sk-container-id-1 input.sk-toggleable__control:checked~label.sk-toggleable__label-arrow:before {content: \"▾\";}#sk-container-id-1 div.sk-estimator input.sk-toggleable__control:checked~label.sk-toggleable__label {background-color: #d4ebff;}#sk-container-id-1 div.sk-label input.sk-toggleable__control:checked~label.sk-toggleable__label {background-color: #d4ebff;}#sk-container-id-1 input.sk-hidden--visually {border: 0;clip: rect(1px 1px 1px 1px);clip: rect(1px, 1px, 1px, 1px);height: 1px;margin: -1px;overflow: hidden;padding: 0;position: absolute;width: 1px;}#sk-container-id-1 div.sk-estimator {font-family: monospace;background-color: #f0f8ff;border: 1px dotted black;border-radius: 0.25em;box-sizing: border-box;margin-bottom: 0.5em;}#sk-container-id-1 div.sk-estimator:hover {background-color: #d4ebff;}#sk-container-id-1 div.sk-parallel-item::after {content: \"\";width: 100%;border-bottom: 1px solid gray;flex-grow: 1;}#sk-container-id-1 div.sk-label:hover label.sk-toggleable__label {background-color: #d4ebff;}#sk-container-id-1 div.sk-serial::before {content: \"\";position: absolute;border-left: 1px solid gray;box-sizing: border-box;top: 0;bottom: 0;left: 50%;z-index: 0;}#sk-container-id-1 div.sk-serial {display: flex;flex-direction: column;align-items: center;background-color: white;padding-right: 0.2em;padding-left: 0.2em;position: relative;}#sk-container-id-1 div.sk-item {position: relative;z-index: 1;}#sk-container-id-1 div.sk-parallel {display: flex;align-items: stretch;justify-content: center;background-color: white;position: relative;}#sk-container-id-1 div.sk-item::before, #sk-container-id-1 div.sk-parallel-item::before {content: \"\";position: absolute;border-left: 1px solid gray;box-sizing: border-box;top: 0;bottom: 0;left: 50%;z-index: -1;}#sk-container-id-1 div.sk-parallel-item {display: flex;flex-direction: column;z-index: 1;position: relative;background-color: white;}#sk-container-id-1 div.sk-parallel-item:first-child::after {align-self: flex-end;width: 50%;}#sk-container-id-1 div.sk-parallel-item:last-child::after {align-self: flex-start;width: 50%;}#sk-container-id-1 div.sk-parallel-item:only-child::after {width: 0;}#sk-container-id-1 div.sk-dashed-wrapped {border: 1px dashed gray;margin: 0 0.4em 0.5em 0.4em;box-sizing: border-box;padding-bottom: 0.4em;background-color: white;}#sk-container-id-1 div.sk-label label {font-family: monospace;font-weight: bold;display: inline-block;line-height: 1.2em;}#sk-container-id-1 div.sk-label-container {text-align: center;}#sk-container-id-1 div.sk-container {/* jupyter's `normalize.less` sets `[hidden] { display: none; }` but bootstrap.min.css set `[hidden] { display: none !important; }` so we also need the `!important` here to be able to override the default hidden behavior on the sphinx rendered scikit-learn.org. See: https://github.com/scikit-learn/scikit-learn/issues/21755 */display: inline-block !important;position: relative;}#sk-container-id-1 div.sk-text-repr-fallback {display: none;}</style><div id=\"sk-container-id-1\" class=\"sk-top-container\"><div class=\"sk-text-repr-fallback\"><pre>LogisticRegression()</pre><b>In a Jupyter environment, please rerun this cell to show the HTML representation or trust the notebook. <br />On GitHub, the HTML representation is unable to render, please try loading this page with nbviewer.org.</b></div><div class=\"sk-container\" hidden><div class=\"sk-item\"><div class=\"sk-estimator sk-toggleable\"><input class=\"sk-toggleable__control sk-hidden--visually\" id=\"sk-estimator-id-1\" type=\"checkbox\" checked><label for=\"sk-estimator-id-1\" class=\"sk-toggleable__label sk-toggleable__label-arrow\">LogisticRegression</label><div class=\"sk-toggleable__content\"><pre>LogisticRegression()</pre></div></div></div></div></div>"
      ],
      "text/plain": [
       "LogisticRegression()"
      ]
     },
     "execution_count": 15,
     "metadata": {},
     "output_type": "execute_result"
    }
   ],
   "source": [
    "#Applying logistic regression\n",
    "from sklearn.linear_model import LogisticRegression\n",
    "loanPayment = LogisticRegression()\n",
    "loanPayment.fit(X_train, y_train)"
   ]
  },
  {
   "cell_type": "code",
   "execution_count": 16,
   "id": "182bcea0",
   "metadata": {
    "execution": {
     "iopub.execute_input": "2023-08-16T06:22:26.440326Z",
     "iopub.status.busy": "2023-08-16T06:22:26.439035Z",
     "iopub.status.idle": "2023-08-16T06:22:26.451344Z",
     "shell.execute_reply": "2023-08-16T06:22:26.450000Z"
    },
    "id": "c7cwE8Jiy9N9",
    "papermill": {
     "duration": 0.029705,
     "end_time": "2023-08-16T06:22:26.454703",
     "exception": false,
     "start_time": "2023-08-16T06:22:26.424998",
     "status": "completed"
    },
    "tags": []
   },
   "outputs": [],
   "source": [
    "#Predicting output values using the model\n",
    "y_pred = loanPayment.predict(X_test)"
   ]
  },
  {
   "cell_type": "code",
   "execution_count": null,
   "id": "d79360ee",
   "metadata": {},
   "outputs": [],
   "source": [
    "#score of model\n",
    "loanPayment.score(X_test,y_test)"
   ]
  },
  {
   "cell_type": "code",
   "execution_count": 17,
   "id": "95f8f35f",
   "metadata": {
    "execution": {
     "iopub.execute_input": "2023-08-16T06:22:26.483116Z",
     "iopub.status.busy": "2023-08-16T06:22:26.482379Z",
     "iopub.status.idle": "2023-08-16T06:22:26.515151Z",
     "shell.execute_reply": "2023-08-16T06:22:26.513991Z"
    },
    "id": "QCnEKb911Rxt",
    "outputId": "b81cd574-cb06-4f7f-bbc5-3be95f2505a9",
    "papermill": {
     "duration": 0.052003,
     "end_time": "2023-08-16T06:22:26.518751",
     "exception": false,
     "start_time": "2023-08-16T06:22:26.466748",
     "status": "completed"
    },
    "tags": []
   },
   "outputs": [
    {
     "name": "stdout",
     "output_type": "stream",
     "text": [
      "[[23581   227]\n",
      " [ 4172   489]]\n"
     ]
    },
    {
     "data": {
      "text/plain": [
       "0.8454810495626822"
      ]
     },
     "execution_count": 17,
     "metadata": {},
     "output_type": "execute_result"
    }
   ],
   "source": [
    "#Making confusion matrix and calculating the accuracy\n",
    "from sklearn.metrics import confusion_matrix, accuracy_score\n",
    "comx = confusion_matrix(y_test, y_pred)\n",
    "print(comx)\n",
    "accuracy_score(y_test, y_pred)"
   ]
  }
 ],
 "metadata": {
  "kernelspec": {
   "display_name": "Python 3",
   "language": "python",
   "name": "python3"
  },
  "language_info": {
   "codemirror_mode": {
    "name": "ipython",
    "version": 3
   },
   "file_extension": ".py",
   "mimetype": "text/x-python",
   "name": "python",
   "nbconvert_exporter": "python",
   "pygments_lexer": "ipython3",
   "version": "3.10.12"
  },
  "papermill": {
   "default_parameters": {},
   "duration": 17.725296,
   "end_time": "2023-08-16T06:22:27.555898",
   "environment_variables": {},
   "exception": null,
   "input_path": "__notebook__.ipynb",
   "output_path": "__notebook__.ipynb",
   "parameters": {},
   "start_time": "2023-08-16T06:22:09.830602",
   "version": "2.4.0"
  }
 },
 "nbformat": 4,
 "nbformat_minor": 5
}
